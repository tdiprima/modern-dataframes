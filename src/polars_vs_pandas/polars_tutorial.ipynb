{
 "cells": [
  {
   "cell_type": "markdown",
   "id": "8c38ac3d",
   "metadata": {},
   "source": [
    "## Reading CSV into a DataFrame"
   ]
  },
  {
   "cell_type": "code",
   "execution_count": 1,
   "id": "40c7f408",
   "metadata": {},
   "outputs": [
    {
     "name": "stdout",
     "output_type": "stream",
     "text": [
      "shape: (6, 5)\n",
      "┌────────────┬──────────┬──────────┬───────┬────────┐\n",
      "│ date       ┆ product  ┆ quantity ┆ price ┆ region │\n",
      "│ ---        ┆ ---      ┆ ---      ┆ ---   ┆ ---    │\n",
      "│ str        ┆ str      ┆ i64      ┆ f64   ┆ str    │\n",
      "╞════════════╪══════════╪══════════╪═══════╪════════╡\n",
      "│ 2023-01-01 ┆ Widget A ┆ 10       ┆ 25.5  ┆ North  │\n",
      "│ 2023-01-02 ┆ Widget B ┆ 15       ┆ 30.0  ┆ South  │\n",
      "│ 2023-01-03 ┆ Widget A ┆ 20       ┆ 25.5  ┆ North  │\n",
      "│ 2023-01-04 ┆ Widget C ┆ 5        ┆ 40.0  ┆ East   │\n",
      "│ 2023-01-05 ┆ Widget B ┆ 10       ┆ 30.0  ┆ South  │\n",
      "│ 2023-01-06 ┆ Widget A ┆ 25       ┆ 25.5  ┆ North  │\n",
      "└────────────┴──────────┴──────────┴───────┴────────┘\n"
     ]
    }
   ],
   "source": [
    "import polars as pl\n",
    "\n",
    "# Read the CSV\n",
    "df = pl.read_csv(\"sales_data.csv\")\n",
    "\n",
    "# Print the DataFrame\n",
    "print(df)"
   ]
  },
  {
   "cell_type": "markdown",
   "id": "6582995b",
   "metadata": {},
   "source": [
    "* Polars infers data types automatically (e.g., quantity as int64, price as float64).\n",
    "* Use `pl.read_csv('file.csv', infer_schema_length=0)` if you want to force string types.\n",
    "\n",
    "## Basic Operations: Select, Filter, Sort\n",
    "\n",
    "Polars uses an expressive API with methods like `select`, `filter`, and `sort`.\n",
    "\n",
    "### Example: Select Columns and Add a New One"
   ]
  },
  {
   "cell_type": "code",
   "execution_count": 2,
   "id": "efe1c7df",
   "metadata": {},
   "outputs": [
    {
     "name": "stdout",
     "output_type": "stream",
     "text": [
      "shape: (6, 5)\n",
      "┌────────────┬──────────┬──────────┬───────┬─────────┐\n",
      "│ date       ┆ product  ┆ quantity ┆ price ┆ revenue │\n",
      "│ ---        ┆ ---      ┆ ---      ┆ ---   ┆ ---     │\n",
      "│ str        ┆ str      ┆ i64      ┆ f64   ┆ f64     │\n",
      "╞════════════╪══════════╪══════════╪═══════╪═════════╡\n",
      "│ 2023-01-01 ┆ Widget A ┆ 10       ┆ 25.5  ┆ 255.0   │\n",
      "│ 2023-01-02 ┆ Widget B ┆ 15       ┆ 30.0  ┆ 450.0   │\n",
      "│ 2023-01-03 ┆ Widget A ┆ 20       ┆ 25.5  ┆ 510.0   │\n",
      "│ 2023-01-04 ┆ Widget C ┆ 5        ┆ 40.0  ┆ 200.0   │\n",
      "│ 2023-01-05 ┆ Widget B ┆ 10       ┆ 30.0  ┆ 300.0   │\n",
      "│ 2023-01-06 ┆ Widget A ┆ 25       ┆ 25.5  ┆ 637.5   │\n",
      "└────────────┴──────────┴──────────┴───────┴─────────┘\n"
     ]
    }
   ],
   "source": [
    "# Select specific columns and create a new 'revenue' column\n",
    "df_selected = df.select(\n",
    "    pl.col(\"date\"),\n",
    "    pl.col(\"product\"),\n",
    "    pl.col(\"quantity\"),\n",
    "    pl.col(\"price\"),\n",
    "    (pl.col(\"quantity\") * pl.col(\"price\")).alias(\n",
    "        \"revenue\"\n",
    "    ),  # New column: revenue = quantity * price\n",
    ")\n",
    "\n",
    "print(df_selected)"
   ]
  },
  {
   "cell_type": "markdown",
   "id": "b0deeb8f",
   "metadata": {},
   "source": [
    "### Example: Filter Rows"
   ]
  },
  {
   "cell_type": "code",
   "execution_count": 3,
   "id": "eb6f53a1",
   "metadata": {},
   "outputs": [
    {
     "name": "stdout",
     "output_type": "stream",
     "text": [
      "shape: (2, 5)\n",
      "┌────────────┬──────────┬──────────┬───────┬────────┐\n",
      "│ date       ┆ product  ┆ quantity ┆ price ┆ region │\n",
      "│ ---        ┆ ---      ┆ ---      ┆ ---   ┆ ---    │\n",
      "│ str        ┆ str      ┆ i64      ┆ f64   ┆ str    │\n",
      "╞════════════╪══════════╪══════════╪═══════╪════════╡\n",
      "│ 2023-01-03 ┆ Widget A ┆ 20       ┆ 25.5  ┆ North  │\n",
      "│ 2023-01-06 ┆ Widget A ┆ 25       ┆ 25.5  ┆ North  │\n",
      "└────────────┴──────────┴──────────┴───────┴────────┘\n"
     ]
    }
   ],
   "source": [
    "# Filter rows where quantity > 10 and region is 'North'\n",
    "df_filtered = df.filter((pl.col(\"quantity\") > 10) & (pl.col(\"region\") == \"North\"))\n",
    "\n",
    "print(df_filtered)"
   ]
  },
  {
   "cell_type": "markdown",
   "id": "48bd0b9e",
   "metadata": {},
   "source": [
    "### Example: Sort Data"
   ]
  },
  {
   "cell_type": "code",
   "execution_count": 4,
   "id": "c7bb542c",
   "metadata": {},
   "outputs": [
    {
     "name": "stdout",
     "output_type": "stream",
     "text": [
      "shape: (6, 5)\n",
      "┌────────────┬──────────┬──────────┬───────┬────────┐\n",
      "│ date       ┆ product  ┆ quantity ┆ price ┆ region │\n",
      "│ ---        ┆ ---      ┆ ---      ┆ ---   ┆ ---    │\n",
      "│ str        ┆ str      ┆ i64      ┆ f64   ┆ str    │\n",
      "╞════════════╪══════════╪══════════╪═══════╪════════╡\n",
      "│ 2023-01-06 ┆ Widget A ┆ 25       ┆ 25.5  ┆ North  │\n",
      "│ 2023-01-03 ┆ Widget A ┆ 20       ┆ 25.5  ┆ North  │\n",
      "│ 2023-01-02 ┆ Widget B ┆ 15       ┆ 30.0  ┆ South  │\n",
      "│ 2023-01-01 ┆ Widget A ┆ 10       ┆ 25.5  ┆ North  │\n",
      "│ 2023-01-05 ┆ Widget B ┆ 10       ┆ 30.0  ┆ South  │\n",
      "│ 2023-01-04 ┆ Widget C ┆ 5        ┆ 40.0  ┆ East   │\n",
      "└────────────┴──────────┴──────────┴───────┴────────┘\n"
     ]
    }
   ],
   "source": [
    "# Sort by quantity descending\n",
    "df_sorted = df.sort(\"quantity\", descending=True)\n",
    "\n",
    "print(df_sorted)"
   ]
  },
  {
   "cell_type": "markdown",
   "id": "3f0175bb",
   "metadata": {},
   "source": [
    "## 6. Group By and Aggregate\n",
    "Polars excels at aggregations.\n",
    "\n",
    "### Example: Group by Region and Calculate Totals"
   ]
  },
  {
   "cell_type": "code",
   "execution_count": 5,
   "id": "e5b4f28d",
   "metadata": {},
   "outputs": [
    {
     "name": "stdout",
     "output_type": "stream",
     "text": [
      "shape: (3, 3)\n",
      "┌────────┬────────────────┬───────────────┐\n",
      "│ region ┆ total_quantity ┆ total_revenue │\n",
      "│ ---    ┆ ---            ┆ ---           │\n",
      "│ str    ┆ i64            ┆ f64           │\n",
      "╞════════╪════════════════╪═══════════════╡\n",
      "│ North  ┆ 55             ┆ 1402.5        │\n",
      "│ East   ┆ 5              ┆ 200.0         │\n",
      "│ South  ┆ 25             ┆ 750.0         │\n",
      "└────────┴────────────────┴───────────────┘\n"
     ]
    }
   ],
   "source": [
    "# Group by region, sum quantity and revenue\n",
    "df_grouped = df.group_by(\"region\").agg(\n",
    "    pl.col(\"quantity\").sum().alias(\"total_quantity\"),\n",
    "    (pl.col(\"quantity\") * pl.col(\"price\")).sum().alias(\"total_revenue\"),\n",
    ")\n",
    "\n",
    "print(df_grouped)"
   ]
  },
  {
   "cell_type": "markdown",
   "id": "6ef215f2",
   "metadata": {},
   "source": [
    "## 7. Joins\n",
    "Join DataFrames like in SQL.\n",
    "\n",
    "### Example: Inner Join with Products Data"
   ]
  },
  {
   "cell_type": "code",
   "execution_count": 6,
   "id": "9503684c",
   "metadata": {},
   "outputs": [
    {
     "name": "stdout",
     "output_type": "stream",
     "text": [
      "shape: (6, 6)\n",
      "┌────────────┬──────────┬──────────┬───────┬────────┬─────────────┐\n",
      "│ date       ┆ product  ┆ quantity ┆ price ┆ region ┆ category    │\n",
      "│ ---        ┆ ---      ┆ ---      ┆ ---   ┆ ---    ┆ ---         │\n",
      "│ str        ┆ str      ┆ i64      ┆ f64   ┆ str    ┆ str         │\n",
      "╞════════════╪══════════╪══════════╪═══════╪════════╪═════════════╡\n",
      "│ 2023-01-01 ┆ Widget A ┆ 10       ┆ 25.5  ┆ North  ┆ Electronics │\n",
      "│ 2023-01-02 ┆ Widget B ┆ 15       ┆ 30.0  ┆ South  ┆ Home Goods  │\n",
      "│ 2023-01-03 ┆ Widget A ┆ 20       ┆ 25.5  ┆ North  ┆ Electronics │\n",
      "│ 2023-01-04 ┆ Widget C ┆ 5        ┆ 40.0  ┆ East   ┆ Electronics │\n",
      "│ 2023-01-05 ┆ Widget B ┆ 10       ┆ 30.0  ┆ South  ┆ Home Goods  │\n",
      "│ 2023-01-06 ┆ Widget A ┆ 25       ┆ 25.5  ┆ North  ┆ Electronics │\n",
      "└────────────┴──────────┴──────────┴───────┴────────┴─────────────┘\n"
     ]
    }
   ],
   "source": [
    "# Load the second CSV\n",
    "df_products = pl.read_csv(\"products.csv\")\n",
    "\n",
    "# Inner join on 'product'\n",
    "df_joined = df.join(df_products, on=\"product\", how=\"inner\")\n",
    "\n",
    "print(df_joined)"
   ]
  },
  {
   "cell_type": "markdown",
   "id": "fc45ecd9",
   "metadata": {},
   "source": [
    "- Note: 'Widget D' from `products.csv` is not in `sales_data.csv`, so it's excluded in the inner join.\n",
    "\n",
    "## 8. Writing to CSV\n",
    "Save your DataFrame back to a file."
   ]
  },
  {
   "cell_type": "code",
   "execution_count": 7,
   "id": "e8cfd1b2",
   "metadata": {},
   "outputs": [
    {
     "name": "stdout",
     "output_type": "stream",
     "text": [
      "Written to joined_data.csv\n"
     ]
    }
   ],
   "source": [
    "# Write the joined DataFrame to a new CSV\n",
    "df_joined.write_csv(\"joined_data.csv\")\n",
    "print(\"Written to joined_data.csv\")"
   ]
  },
  {
   "cell_type": "markdown",
   "id": "5933a56e",
   "metadata": {},
   "source": [
    "## 9. Advanced: Lazy Evaluation\n",
    "Polars supports lazy mode for optimized execution (e.g., for large datasets). Use `pl.scan_csv` instead of `pl.read_csv`.\n",
    "\n",
    "### Example: Lazy Query"
   ]
  },
  {
   "cell_type": "code",
   "execution_count": 8,
   "id": "3d76fb8b",
   "metadata": {},
   "outputs": [
    {
     "name": "stdout",
     "output_type": "stream",
     "text": [
      "shape: (3, 5)\n",
      "┌────────────┬──────────┬──────────┬───────┬────────┐\n",
      "│ date       ┆ product  ┆ quantity ┆ price ┆ region │\n",
      "│ ---        ┆ ---      ┆ ---      ┆ ---   ┆ ---    │\n",
      "│ str        ┆ str      ┆ i64      ┆ f64   ┆ str    │\n",
      "╞════════════╪══════════╪══════════╪═══════╪════════╡\n",
      "│ 2023-01-02 ┆ Widget B ┆ 15       ┆ 30.0  ┆ South  │\n",
      "│ 2023-01-03 ┆ Widget A ┆ 20       ┆ 25.5  ┆ North  │\n",
      "│ 2023-01-06 ┆ Widget A ┆ 25       ┆ 25.5  ┆ North  │\n",
      "└────────────┴──────────┴──────────┴───────┴────────┘\n"
     ]
    }
   ],
   "source": [
    "# Lazy load and query\n",
    "lazy_df = (\n",
    "    pl.scan_csv(\"sales_data.csv\").filter(pl.col(\"quantity\") > 10).collect()\n",
    ")  # .collect() executes the query\n",
    "\n",
    "print(lazy_df)"
   ]
  },
  {
   "cell_type": "markdown",
   "id": "3c3e0b53",
   "metadata": {},
   "source": [
    "This optimizes the query plan before execution, which is great for big data.\n",
    "\n",
    "## Next Steps\n",
    "- Explore more: Check Polars docs (https://pola.rs/) for window functions, pivots, and integrations with Arrow/Parquet.\n",
    "- Performance: Polars is multi-threaded—try it on larger datasets!\n",
    "- Common Pitfalls: Polars is immutable (operations return new DataFrames), and it uses expressions (e.g., `pl.col`) for selections.\n",
    "\n",
    "&mdash; *Grok-4*"
   ]
  },
  {
   "cell_type": "code",
   "execution_count": null,
   "id": "24a2a140",
   "metadata": {},
   "outputs": [],
   "source": []
  }
 ],
 "metadata": {
  "kernelspec": {
   "display_name": "Python 3 (ipykernel)",
   "language": "python",
   "name": "python3"
  },
  "language_info": {
   "codemirror_mode": {
    "name": "ipython",
    "version": 3
   },
   "file_extension": ".py",
   "mimetype": "text/x-python",
   "name": "python",
   "nbconvert_exporter": "python",
   "pygments_lexer": "ipython3",
   "version": "3.9.13"
  }
 },
 "nbformat": 4,
 "nbformat_minor": 5
}
